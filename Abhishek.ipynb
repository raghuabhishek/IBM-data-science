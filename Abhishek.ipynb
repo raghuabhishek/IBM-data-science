{
    "cells": [
        {
            "cell_type": "code",
            "execution_count": 1,
            "metadata": {},
            "outputs": [
                {
                    "data": {
                        "text/html": "<div>\n<style scoped>\n    .dataframe tbody tr th:only-of-type {\n        vertical-align: middle;\n    }\n\n    .dataframe tbody tr th {\n        vertical-align: top;\n    }\n\n    .dataframe thead th {\n        text-align: right;\n    }\n</style>\n<table border=\"1\" class=\"dataframe\">\n  <thead>\n    <tr style=\"text-align: right;\">\n      <th></th>\n      <th></th>\n      <th></th>\n      <th></th>\n      <th></th>\n      <th></th>\n      <th></th>\n      <th></th>\n      <th></th>\n      <th></th>\n      <th></th>\n      <th></th>\n      <th>noting</th>\n    </tr>\n  </thead>\n  <tbody>\n    <tr>\n      <th rowspan=\"5\" valign=\"top\">washingmachine3</th>\n      <th rowspan=\"5\" valign=\"top\">/agent14/washingmachine3</th>\n      <th rowspan=\"5\" valign=\"top\">/washingService</th>\n      <th rowspan=\"5\" valign=\"top\">Showerroom</th>\n      <th>/agent14/washingmachine3</th>\n      <th>/washingService</th>\n      <th>Showerroom</th>\n      <th>/agent14/washingmachine3</th>\n      <th>/washingService</th>\n      <th>registerService</th>\n      <th>none</th>\n      <th>1519801200000</th>\n      <td>normal</td>\n    </tr>\n    <tr>\n      <th rowspan=\"4\" valign=\"top\">/agent12/battery5</th>\n      <th rowspan=\"4\" valign=\"top\">/batteryService</th>\n      <th rowspan=\"4\" valign=\"top\">Entrance</th>\n      <th rowspan=\"4\" valign=\"top\">/agent12/battery5/charge</th>\n      <th rowspan=\"4\" valign=\"top\">/basic/number</th>\n      <th rowspan=\"4\" valign=\"top\">read</th>\n      <th rowspan=\"4\" valign=\"top\">4</th>\n      <th>1519801200001</th>\n      <td>normal</td>\n    </tr>\n    <tr>\n      <th>1519801200011</th>\n      <td>normal</td>\n    </tr>\n    <tr>\n      <th>1519801212007</th>\n      <td>normal</td>\n    </tr>\n    <tr>\n      <th>1519801224017</th>\n      <td>normal</td>\n    </tr>\n  </tbody>\n</table>\n</div>",
                        "text/plain": "                                                                                                                                                                                                     noting\nwashingmachine3 /agent14/washingmachine3 /washingService Showerroom /agent14/washingmachine3 /washingService Showerroom /agent14/washingmachine3 /washingService registerService none 1519801200000  normal\n                                                                    /agent12/battery5        /batteryService Entrance   /agent12/battery5/charge /basic/number   read            4    1519801200001  normal\n                                                                                                                                                                                      1519801200011  normal\n                                                                                                                                                                                      1519801212007  normal\n                                                                                                                                                                                      1519801224017  normal"
                    },
                    "execution_count": 1,
                    "metadata": {},
                    "output_type": "execute_result"
                }
            ],
            "source": "# The code was removed by Watson Studio for sharing."
        },
        {
            "cell_type": "code",
            "execution_count": null,
            "metadata": {},
            "outputs": [],
            "source": ""
        }
    ],
    "metadata": {
        "kernelspec": {
            "display_name": "Python 3.8",
            "language": "python",
            "name": "python3"
        },
        "language_info": {
            "codemirror_mode": {
                "name": "ipython",
                "version": 3
            },
            "file_extension": ".py",
            "mimetype": "text/x-python",
            "name": "python",
            "nbconvert_exporter": "python",
            "pygments_lexer": "ipython3",
            "version": "3.8.12"
        }
    },
    "nbformat": 4,
    "nbformat_minor": 1
}