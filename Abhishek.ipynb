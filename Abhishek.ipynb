{
    "cells": [
        {
            "metadata": {},
            "cell_type": "code",
            "source": "\nimport os, types\nimport pandas as pd\nfrom botocore.client import Config\nimport ibm_boto3\n\ndef __iter__(self): return 0\n\n# @hidden_cell\n# The following code accesses a file in your IBM Cloud Object Storage. It includes your credentials.\n# You might want to remove those credentials before you share the notebook.\n\nif os.environ.get('RUNTIME_ENV_LOCATION_TYPE') == 'external':\n    endpoint_59123a5e11b34b58a51f3ad37e802898 = 'https://s3.us.cloud-object-storage.appdomain.cloud'\nelse:\n    endpoint_59123a5e11b34b58a51f3ad37e802898 = 'https://s3.private.us.cloud-object-storage.appdomain.cloud'\n\nclient_59123a5e11b34b58a51f3ad37e802898 = ibm_boto3.client(service_name='s3',\n    ibm_api_key_id='NdX9JifSLFeK9rmfUw102Gjx2vRRHqWurC_P-ibh1u0c',\n    ibm_auth_endpoint=\"https://iam.cloud.ibm.com/oidc/token\",\n    config=Config(signature_version='oauth'),\n    endpoint_url=endpoint_59123a5e11b34b58a51f3ad37e802898)\n\nbody = client_59123a5e11b34b58a51f3ad37e802898.get_object(Bucket='abhishek-donotdelete-pr-s0p6wxvsw4eptv',Key='periodicityDataset.csv')['Body']\n# add missing __iter__ method, so pandas accepts body as file-like object\nif not hasattr(body, \"__iter__\"): body.__iter__ = types.MethodType( __iter__, body )\n\ndf_data_1 = pd.read_csv(body)\ndf_data_1.head()\n",
            "execution_count": 1,
            "outputs": [
                {
                    "output_type": "execute_result",
                    "execution_count": 1,
                    "data": {
                        "text/plain": "                                                                                                                                                                                                     noting\nwashingmachine3 /agent14/washingmachine3 /washingService Showerroom /agent14/washingmachine3 /washingService Showerroom /agent14/washingmachine3 /washingService registerService none 1519801200000  normal\n                                                                    /agent12/battery5        /batteryService Entrance   /agent12/battery5/charge /basic/number   read            4    1519801200001  normal\n                                                                                                                                                                                      1519801200011  normal\n                                                                                                                                                                                      1519801212007  normal\n                                                                                                                                                                                      1519801224017  normal",
                        "text/html": "<div>\n<style scoped>\n    .dataframe tbody tr th:only-of-type {\n        vertical-align: middle;\n    }\n\n    .dataframe tbody tr th {\n        vertical-align: top;\n    }\n\n    .dataframe thead th {\n        text-align: right;\n    }\n</style>\n<table border=\"1\" class=\"dataframe\">\n  <thead>\n    <tr style=\"text-align: right;\">\n      <th></th>\n      <th></th>\n      <th></th>\n      <th></th>\n      <th></th>\n      <th></th>\n      <th></th>\n      <th></th>\n      <th></th>\n      <th></th>\n      <th></th>\n      <th></th>\n      <th>noting</th>\n    </tr>\n  </thead>\n  <tbody>\n    <tr>\n      <th rowspan=\"5\" valign=\"top\">washingmachine3</th>\n      <th rowspan=\"5\" valign=\"top\">/agent14/washingmachine3</th>\n      <th rowspan=\"5\" valign=\"top\">/washingService</th>\n      <th rowspan=\"5\" valign=\"top\">Showerroom</th>\n      <th>/agent14/washingmachine3</th>\n      <th>/washingService</th>\n      <th>Showerroom</th>\n      <th>/agent14/washingmachine3</th>\n      <th>/washingService</th>\n      <th>registerService</th>\n      <th>none</th>\n      <th>1519801200000</th>\n      <td>normal</td>\n    </tr>\n    <tr>\n      <th rowspan=\"4\" valign=\"top\">/agent12/battery5</th>\n      <th rowspan=\"4\" valign=\"top\">/batteryService</th>\n      <th rowspan=\"4\" valign=\"top\">Entrance</th>\n      <th rowspan=\"4\" valign=\"top\">/agent12/battery5/charge</th>\n      <th rowspan=\"4\" valign=\"top\">/basic/number</th>\n      <th rowspan=\"4\" valign=\"top\">read</th>\n      <th rowspan=\"4\" valign=\"top\">4</th>\n      <th>1519801200001</th>\n      <td>normal</td>\n    </tr>\n    <tr>\n      <th>1519801200011</th>\n      <td>normal</td>\n    </tr>\n    <tr>\n      <th>1519801212007</th>\n      <td>normal</td>\n    </tr>\n    <tr>\n      <th>1519801224017</th>\n      <td>normal</td>\n    </tr>\n  </tbody>\n</table>\n</div>"
                    },
                    "metadata": {}
                }
            ]
        },
        {
            "metadata": {},
            "cell_type": "code",
            "source": "",
            "execution_count": null,
            "outputs": []
        }
    ],
    "metadata": {
        "kernelspec": {
            "name": "python3",
            "display_name": "Python 3.8",
            "language": "python"
        },
        "language_info": {
            "name": "python",
            "version": "3.8.12",
            "mimetype": "text/x-python",
            "codemirror_mode": {
                "name": "ipython",
                "version": 3
            },
            "pygments_lexer": "ipython3",
            "nbconvert_exporter": "python",
            "file_extension": ".py"
        }
    },
    "nbformat": 4,
    "nbformat_minor": 1
}